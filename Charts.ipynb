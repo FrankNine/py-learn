{
 "cells": [
  {
   "cell_type": "code",
   "execution_count": 1,
   "id": "d8636856",
   "metadata": {},
   "outputs": [],
   "source": [
    "import swimclub\n",
    "\n",
    "fn = \"Darius-13-100m-Fly.txt\"\n",
    "(swimmer, age, distance, stroke, *_) = swimclub.read_swim_data(fn)\n",
    "title = swimmer + \" (Under \" + age + \") \" + distance + \" \" + stroke\n"
   ]
  },
  {
   "cell_type": "code",
   "execution_count": 2,
   "id": "c9c9c9bb",
   "metadata": {},
   "outputs": [
    {
     "data": {
      "text/plain": [
       "'Darius (Under 13) 100m Fly'"
      ]
     },
     "execution_count": 2,
     "metadata": {},
     "output_type": "execute_result"
    }
   ],
   "source": [
    "title"
   ]
  },
  {
   "cell_type": "code",
   "execution_count": 3,
   "id": "9e74b2de",
   "metadata": {},
   "outputs": [],
   "source": [
    "html = \"<!DOCTYPE html><html><head><title>\" + title\n",
    "html = html + \"</title></head><body><h3>\" + title + \"</h3>\""
   ]
  },
  {
   "cell_type": "code",
   "execution_count": 4,
   "id": "ef0b223c",
   "metadata": {},
   "outputs": [
    {
     "data": {
      "text/plain": [
       "'<!DOCTYPE html><html><head><title>Darius (Under 13) 100m Fly</title></head><body><h3>Darius (Under 13) 100m Fly</h3>'"
      ]
     },
     "execution_count": 4,
     "metadata": {},
     "output_type": "execute_result"
    }
   ],
   "source": [
    "html"
   ]
  },
  {
   "cell_type": "code",
   "execution_count": 5,
   "id": "89004f39",
   "metadata": {},
   "outputs": [
    {
     "data": {
      "text/plain": [
       "'Darius (Under 13) 100m Fly'"
      ]
     },
     "execution_count": 5,
     "metadata": {},
     "output_type": "execute_result"
    }
   ],
   "source": [
    "title = f\"{swimmer} (Under {age}) {distance} {stroke}\"\n",
    "title"
   ]
  },
  {
   "cell_type": "code",
   "execution_count": 6,
   "id": "379e40d8",
   "metadata": {},
   "outputs": [
    {
     "data": {
      "text/plain": [
       "'<!DOCTYPE html>\\n<html>\\n    <head>\\n        <title>Darius (Under 13) 100m Fly</title>\\n    </head>\\n    <body>\\n        <h3>Darius (Under 13) 100m Fly</h3>\\n'"
      ]
     },
     "execution_count": 6,
     "metadata": {},
     "output_type": "execute_result"
    }
   ],
   "source": [
    "html = f\"\"\"<!DOCTYPE html>\n",
    "<html>\n",
    "    <head>\n",
    "        <title>{title}</title>\n",
    "    </head>\n",
    "    <body>\n",
    "        <h3>{title}</h3>\n",
    "\"\"\"\n",
    "html"
   ]
  },
  {
   "cell_type": "code",
   "execution_count": 7,
   "id": "06d20bf5",
   "metadata": {},
   "outputs": [
    {
     "name": "stdout",
     "output_type": "stream",
     "text": [
      "<!DOCTYPE html>\n",
      "<html>\n",
      "    <head>\n",
      "        <title>Darius (Under 13) 100m Fly</title>\n",
      "    </head>\n",
      "    <body>\n",
      "        <h3>Darius (Under 13) 100m Fly</h3>\n",
      "\n"
     ]
    }
   ],
   "source": [
    "print(html)"
   ]
  },
  {
   "cell_type": "code",
   "execution_count": 8,
   "id": "ebfb0aa8",
   "metadata": {},
   "outputs": [
    {
     "data": {
      "text/plain": [
       "('Darius',\n",
       " '13',\n",
       " '100m',\n",
       " 'Fly',\n",
       " ['1:27.95', '1:21.07', '1:30.96', '1:23.22', '1:27.95', '1:28.30'],\n",
       " '1:26.58',\n",
       " [8795, 8107, 9096, 8322, 8795, 8830])"
      ]
     },
     "execution_count": 8,
     "metadata": {},
     "output_type": "execute_result"
    }
   ],
   "source": [
    "import swimclub\n",
    "swimclub.read_swim_data(fn)"
   ]
  },
  {
   "cell_type": "code",
   "execution_count": null,
   "id": "21a9e815",
   "metadata": {},
   "outputs": [],
   "source": [
    "*_, times, average, converts = swimclub.read_swim_data(fn)\n",
    "times.reverse()\n",
    "converts.reverse()"
   ]
  },
  {
   "cell_type": "code",
   "execution_count": null,
   "id": "8ef0d839",
   "metadata": {},
   "outputs": [],
   "source": [
    "from_max = max(converts)"
   ]
  },
  {
   "cell_type": "code",
   "execution_count": null,
   "id": "24b07043",
   "metadata": {},
   "outputs": [
    {
     "data": {
      "text/plain": [
       "9096"
      ]
     },
     "metadata": {},
     "output_type": "display_data"
    }
   ],
   "source": [
    "from_max"
   ]
  },
  {
   "cell_type": "code",
   "execution_count": null,
   "id": "00506d0a",
   "metadata": {},
   "outputs": [],
   "source": [
    "import hfpy_utils\n",
    "\n",
    "svgs = \"\""
   ]
  },
  {
   "cell_type": "code",
   "execution_count": null,
   "id": "920b6866",
   "metadata": {},
   "outputs": [
    {
     "data": {
      "text/plain": [
       "339.76"
      ]
     },
     "metadata": {},
     "output_type": "display_data"
    }
   ],
   "source": [
    "n = 0\n",
    "bar_width = hfpy_utils.convert2range(converts[n], 0, max(converts), 0, 350)\n",
    "bar_width"
   ]
  },
  {
   "cell_type": "code",
   "execution_count": null,
   "id": "dd64cb44",
   "metadata": {},
   "outputs": [
    {
     "name": "stdout",
     "output_type": "stream",
     "text": [
      "339.76\n",
      "338.42\n",
      "320.22\n",
      "350.0\n",
      "311.94\n",
      "338.42\n"
     ]
    }
   ],
   "source": [
    "for n, t in enumerate(times):\n",
    "    print(hfpy_utils.convert2range(converts[n], 0, max(converts), 0, 350))"
   ]
  },
  {
   "cell_type": "code",
   "execution_count": null,
   "id": "9e5039c7",
   "metadata": {},
   "outputs": [
    {
     "name": "stdout",
     "output_type": "stream",
     "text": [
      "<svg height=\"30\" width=\"400\">\n",
      "    <rect height=\"30\" width=\"339.76\" style=\"fill:rgb(0,0,255);\" />\n",
      "</svg>1:28.30<br />\n",
      "    <svg height=\"30\" width=\"400\">\n",
      "    <rect height=\"30\" width=\"338.42\" style=\"fill:rgb(0,0,255);\" />\n",
      "</svg>1:27.95<br />\n",
      "    <svg height=\"30\" width=\"400\">\n",
      "    <rect height=\"30\" width=\"320.22\" style=\"fill:rgb(0,0,255);\" />\n",
      "</svg>1:23.22<br />\n",
      "    <svg height=\"30\" width=\"400\">\n",
      "    <rect height=\"30\" width=\"350.0\" style=\"fill:rgb(0,0,255);\" />\n",
      "</svg>1:30.96<br />\n",
      "    <svg height=\"30\" width=\"400\">\n",
      "    <rect height=\"30\" width=\"311.94\" style=\"fill:rgb(0,0,255);\" />\n",
      "</svg>1:21.07<br />\n",
      "    <svg height=\"30\" width=\"400\">\n",
      "    <rect height=\"30\" width=\"338.42\" style=\"fill:rgb(0,0,255);\" />\n",
      "</svg>1:27.95<br />\n",
      "    \n"
     ]
    }
   ],
   "source": [
    "svgs = \"\"\n",
    "for n, t in enumerate(times):\n",
    "    bar_width = hfpy_utils.convert2range(converts[n], 0, max(converts), 0, 350)\n",
    "    svgs += f\"\"\"<svg height=\"30\" width=\"400\">\n",
    "    <rect height=\"30\" width=\"{bar_width}\" style=\"fill:rgb(0,0,255);\" />\n",
    "</svg>{t}<br />\n",
    "    \"\"\"\n",
    "print(svgs)"
   ]
  },
  {
   "cell_type": "code",
   "execution_count": null,
   "id": "9176c4c0",
   "metadata": {},
   "outputs": [],
   "source": [
    "fn = \"Darius-13-100m-Fly.txt\"\n",
    "(swimmer, age, distance, stroke, *_) = swimclub.read_swim_data(fn)\n",
    "title = swimmer + \" (Under \" + age + \") \" + distance + \" \" + stroke"
   ]
  },
  {
   "cell_type": "code",
   "execution_count": null,
   "id": "4ba8e7d9",
   "metadata": {},
   "outputs": [
    {
     "data": {
      "text/plain": [
       "'<!DOCTYPE html>\\n<html>\\n    <head>\\n        <title>Darius (Under 13) 100m Fly</title>\\n    </head>\\n    <body>\\n        <h3>Darius (Under 13) 100m Fly</h3>\\n'"
      ]
     },
     "metadata": {},
     "output_type": "display_data"
    }
   ],
   "source": [
    "html = f\"\"\"<!DOCTYPE html>\n",
    "<html>\n",
    "    <head>\n",
    "        <title>{title}</title>\n",
    "    </head>\n",
    "    <body>\n",
    "        <h3>{title}</h3>\n",
    "\"\"\"\n",
    "\n",
    "html"
   ]
  },
  {
   "cell_type": "code",
   "execution_count": null,
   "id": "03a18b1c",
   "metadata": {},
   "outputs": [
    {
     "data": {
      "text/plain": [
       "'<!DOCTYPE html>\\n<html>\\n    <head>\\n        <title>Darius (Under 13) 100m Fly</title>\\n    </head>\\n    <body>\\n        <h3>Darius (Under 13) 100m Fly</h3>\\n<svg height=\"30\" width=\"400\">\\n    <rect height=\"30\" width=\"339.76\" style=\"fill:rgb(0,0,255);\" />\\n</svg>1:28.30<br />\\n    <svg height=\"30\" width=\"400\">\\n    <rect height=\"30\" width=\"338.42\" style=\"fill:rgb(0,0,255);\" />\\n</svg>1:27.95<br />\\n    <svg height=\"30\" width=\"400\">\\n    <rect height=\"30\" width=\"320.22\" style=\"fill:rgb(0,0,255);\" />\\n</svg>1:23.22<br />\\n    <svg height=\"30\" width=\"400\">\\n    <rect height=\"30\" width=\"350.0\" style=\"fill:rgb(0,0,255);\" />\\n</svg>1:30.96<br />\\n    <svg height=\"30\" width=\"400\">\\n    <rect height=\"30\" width=\"311.94\" style=\"fill:rgb(0,0,255);\" />\\n</svg>1:21.07<br />\\n    <svg height=\"30\" width=\"400\">\\n    <rect height=\"30\" width=\"338.42\" style=\"fill:rgb(0,0,255);\" />\\n</svg>1:27.95<br />\\n    <p>Average time: 1:26.58</p>\\n    </body>\\n</html>'"
      ]
     },
     "metadata": {},
     "output_type": "display_data"
    }
   ],
   "source": [
    "footer = f\"\"\"<p>Average time: {average}</p>\n",
    "    </body>\n",
    "</html>\"\"\"\n",
    "\n",
    "page = html + svgs + footer\n",
    "\n",
    "page"
   ]
  },
  {
   "cell_type": "code",
   "execution_count": null,
   "id": "5b3ad239",
   "metadata": {},
   "outputs": [
    {
     "name": "stdout",
     "output_type": "stream",
     "text": [
      "This is a test. <_io.TextIOWrapper name='text.txt' mode='w' encoding='cp950'>\n"
     ]
    }
   ],
   "source": [
    "with open(\"text.txt\", \"w\") as tf:\n",
    "    print(\"This is a test.\", tf)"
   ]
  },
  {
   "cell_type": "code",
   "execution_count": null,
   "id": "a213187f",
   "metadata": {},
   "outputs": [
    {
     "data": {
      "text/plain": [
       "'charts/Darius-13-100m-Fly.html'"
      ]
     },
     "metadata": {},
     "output_type": "display_data"
    }
   ],
   "source": [
    "save_to = f\"charts/{fn.removesuffix(\".txt\")}.html\"\n",
    "save_to"
   ]
  },
  {
   "cell_type": "code",
   "execution_count": null,
   "id": "ffd8e353",
   "metadata": {},
   "outputs": [],
   "source": [
    "with open(save_to, \"w\") as sf:\n",
    "    print(page, file=sf)"
   ]
  },
  {
   "cell_type": "code",
   "execution_count": null,
   "id": "35260609",
   "metadata": {},
   "outputs": [
    {
     "data": {
      "text/plain": [
       "True"
      ]
     },
     "metadata": {},
     "output_type": "display_data"
    }
   ],
   "source": [
    "import os\n",
    "import webbrowser\n",
    "\n",
    "webbrowser.open(\"file://\" + os.path.realpath(save_to))"
   ]
  }
 ],
 "metadata": {
  "kernelspec": {
   "display_name": "Python 3",
   "language": "python",
   "name": "python3"
  },
  "language_info": {
   "codemirror_mode": {
    "name": "ipython",
    "version": 3
   },
   "file_extension": ".py",
   "mimetype": "text/x-python",
   "name": "python",
   "nbconvert_exporter": "python",
   "pygments_lexer": "ipython3",
   "version": "3.13.5"
  }
 },
 "nbformat": 4,
 "nbformat_minor": 5
}
