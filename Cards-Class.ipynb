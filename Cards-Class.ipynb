{
 "cells": [
  {
   "cell_type": "code",
   "execution_count": 1,
   "id": "8efdbc7f",
   "metadata": {},
   "outputs": [],
   "source": [
    "import random\n",
    "\n",
    "class CardDeck:\n",
    "    def __init__(self):\n",
    "        self.reset()\n",
    "\n",
    "    def reset(self):\n",
    "        suits = [\"Clubs\", \"Spades\", \"Hearts\", \"Diamonds\"]\n",
    "        faces = [\"Jack\", \"Queen\", \"King\", \"Ace\"]\n",
    "        numbered = [2, 3, 4, 5, 6, 7, 8, 9, 10]\n",
    "        self.deck = set()\n",
    "        for suit in suits:\n",
    "            for card in faces + numbered:\n",
    "                self.deck.add(f\"{card} of {suit}\")\n",
    "    \n",
    "    def draw(self):\n",
    "        card = random.choice(list(self.deck))\n",
    "        self.deck.remove(card)\n",
    "        return card\n",
    "    \n",
    "    def __len__(self):\n",
    "        return len(self.deck)"
   ]
  },
  {
   "cell_type": "code",
   "execution_count": 2,
   "id": "de785e03",
   "metadata": {},
   "outputs": [],
   "source": [
    "deck = CardDeck()"
   ]
  },
  {
   "cell_type": "code",
   "execution_count": 3,
   "id": "eb04c933",
   "metadata": {},
   "outputs": [
    {
     "data": {
      "text/plain": [
       "52"
      ]
     },
     "execution_count": 3,
     "metadata": {},
     "output_type": "execute_result"
    }
   ],
   "source": [
    "len(deck)"
   ]
  },
  {
   "cell_type": "code",
   "execution_count": 5,
   "id": "3431425b",
   "metadata": {},
   "outputs": [
    {
     "name": "stdout",
     "output_type": "stream",
     "text": [
      "7 of Spades\n",
      "5 of Hearts\n",
      "6 of Diamonds\n",
      "3 of Spades\n",
      "7 of Clubs\n"
     ]
    }
   ],
   "source": [
    "for _ in range(5):\n",
    "    print(deck.draw())"
   ]
  },
  {
   "cell_type": "code",
   "execution_count": 6,
   "id": "2c5d4852",
   "metadata": {},
   "outputs": [
    {
     "data": {
      "text/plain": [
       "47"
      ]
     },
     "execution_count": 6,
     "metadata": {},
     "output_type": "execute_result"
    }
   ],
   "source": [
    "len(deck)"
   ]
  },
  {
   "cell_type": "code",
   "execution_count": 7,
   "id": "87acb9dc",
   "metadata": {},
   "outputs": [],
   "source": [
    "deck.reset()"
   ]
  },
  {
   "cell_type": "code",
   "execution_count": 8,
   "id": "899e2195",
   "metadata": {},
   "outputs": [
    {
     "data": {
      "text/plain": [
       "52"
      ]
     },
     "execution_count": 8,
     "metadata": {},
     "output_type": "execute_result"
    }
   ],
   "source": [
    "len(deck)"
   ]
  }
 ],
 "metadata": {
  "kernelspec": {
   "display_name": "Python 3",
   "language": "python",
   "name": "python3"
  },
  "language_info": {
   "codemirror_mode": {
    "name": "ipython",
    "version": 3
   },
   "file_extension": ".py",
   "mimetype": "text/x-python",
   "name": "python",
   "nbconvert_exporter": "python",
   "pygments_lexer": "ipython3",
   "version": "3.13.5"
  }
 },
 "nbformat": 4,
 "nbformat_minor": 5
}
