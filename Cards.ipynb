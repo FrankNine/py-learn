{
 "cells": [
  {
   "cell_type": "code",
   "execution_count": 22,
   "id": "ca67993b",
   "metadata": {},
   "outputs": [],
   "source": [
    "import random\n",
    "suits = [\"Clubs\", \"Spade\", \"Hearts\", \"Dimondds\"]\n",
    "faces = [\"Jack\", \"Queen\", \"King\", \"Ace\"]\n",
    "numbered = [2, 3, 4, 5, 6, 7, 8, 9, 10]"
   ]
  },
  {
   "cell_type": "code",
   "execution_count": 23,
   "id": "43a68b20",
   "metadata": {},
   "outputs": [
    {
     "data": {
      "text/plain": [
       "['Clubs', 'Spade', 'Hearts', 'Dimondds']"
      ]
     },
     "execution_count": 23,
     "metadata": {},
     "output_type": "execute_result"
    }
   ],
   "source": [
    "suits"
   ]
  },
  {
   "cell_type": "code",
   "execution_count": 24,
   "id": "cd53cfcb",
   "metadata": {},
   "outputs": [],
   "source": [
    "def draw():\n",
    "  the_suit = random.choice(suits)\n",
    "  the_card = random.choice(faces + numbered)\n",
    "  return the_card, \"of\", the_suit"
   ]
  },
  {
   "cell_type": "code",
   "execution_count": 25,
   "id": "15cfa178",
   "metadata": {},
   "outputs": [
    {
     "data": {
      "text/plain": [
       "tuple"
      ]
     },
     "execution_count": 25,
     "metadata": {},
     "output_type": "execute_result"
    }
   ],
   "source": [
    "type(draw())"
   ]
  },
  {
   "cell_type": "code",
   "execution_count": 26,
   "id": "2b7ca706",
   "metadata": {},
   "outputs": [
    {
     "name": "stdout",
     "output_type": "stream",
     "text": [
      "('Queen', 'of', 'Clubs')\n"
     ]
    }
   ],
   "source": [
    "print(draw())"
   ]
  },
  {
   "cell_type": "code",
   "execution_count": 27,
   "id": "9c6c3a1a",
   "metadata": {},
   "outputs": [
    {
     "name": "stdout",
     "output_type": "stream",
     "text": [
      "('Queen', 'of', 'Dimondds')\n"
     ]
    }
   ],
   "source": [
    "print(draw())"
   ]
  },
  {
   "cell_type": "code",
   "execution_count": 28,
   "id": "c52feb1c",
   "metadata": {},
   "outputs": [
    {
     "name": "stdout",
     "output_type": "stream",
     "text": [
      "(6, 'of', 'Hearts')\n"
     ]
    }
   ],
   "source": [
    "print(draw())"
   ]
  },
  {
   "cell_type": "code",
   "execution_count": 29,
   "id": "4e2fca01",
   "metadata": {},
   "outputs": [
    {
     "name": "stdout",
     "output_type": "stream",
     "text": [
      "('Jack', 'of', 'Clubs')\n",
      "(10, 'of', 'Hearts')\n",
      "(4, 'of', 'Clubs')\n",
      "(6, 'of', 'Dimondds')\n",
      "(9, 'of', 'Hearts')\n"
     ]
    }
   ],
   "source": [
    "for _ in range(5):\n",
    "  print(draw())"
   ]
  },
  {
   "cell_type": "code",
   "execution_count": 30,
   "id": "7439d158",
   "metadata": {},
   "outputs": [],
   "source": [
    "deck = set()"
   ]
  },
  {
   "cell_type": "code",
   "execution_count": 31,
   "id": "a5fa1706",
   "metadata": {},
   "outputs": [],
   "source": [
    "for suit in suits:\n",
    "  for card in faces + numbered:\n",
    "    deck.add((card, \"of\", suit))"
   ]
  },
  {
   "cell_type": "code",
   "execution_count": 32,
   "id": "b399d2ca",
   "metadata": {},
   "outputs": [
    {
     "data": {
      "text/plain": [
       "52"
      ]
     },
     "execution_count": 32,
     "metadata": {},
     "output_type": "execute_result"
    }
   ],
   "source": [
    "len(deck)"
   ]
  },
  {
   "cell_type": "code",
   "execution_count": 33,
   "id": "0438e4ac",
   "metadata": {},
   "outputs": [
    {
     "name": "stdout",
     "output_type": "stream",
     "text": [
      "['Jack', 'Queen', 'King', 'Ace', 2, 3, 4, 5, 6, 7, 8, 9, 10]\n"
     ]
    }
   ],
   "source": [
    "print(faces + numbered)"
   ]
  },
  {
   "cell_type": "code",
   "execution_count": 34,
   "id": "72232595",
   "metadata": {},
   "outputs": [],
   "source": [
    "def draw():\n",
    "  card = random.choice(list(deck))\n",
    "  deck.remove(card)\n",
    "  return card"
   ]
  },
  {
   "cell_type": "code",
   "execution_count": 35,
   "id": "1050ecfc",
   "metadata": {},
   "outputs": [
    {
     "name": "stdout",
     "output_type": "stream",
     "text": [
      "(2, 'of', 'Hearts')\n"
     ]
    }
   ],
   "source": [
    "print(draw())"
   ]
  },
  {
   "cell_type": "code",
   "execution_count": 36,
   "id": "6c5a7e7b",
   "metadata": {},
   "outputs": [
    {
     "data": {
      "text/plain": [
       "51"
      ]
     },
     "execution_count": 36,
     "metadata": {},
     "output_type": "execute_result"
    }
   ],
   "source": [
    "len(deck)"
   ]
  },
  {
   "cell_type": "code",
   "execution_count": 39,
   "id": "6ecf0e38",
   "metadata": {},
   "outputs": [],
   "source": [
    "card = (\"Ace\", \"of\", \"Hearts\")"
   ]
  },
  {
   "cell_type": "code",
   "execution_count": 40,
   "id": "164aa683",
   "metadata": {},
   "outputs": [
    {
     "data": {
      "text/plain": [
       "True"
      ]
     },
     "execution_count": 40,
     "metadata": {},
     "output_type": "execute_result"
    }
   ],
   "source": [
    "card in deck"
   ]
  },
  {
   "cell_type": "code",
   "execution_count": 41,
   "id": "00f86308",
   "metadata": {},
   "outputs": [
    {
     "name": "stdout",
     "output_type": "stream",
     "text": [
      "That card is available\n"
     ]
    }
   ],
   "source": [
    "if card in deck:\n",
    "  print(\"That card is available\")\n",
    "else:\n",
    "  print(\"That card is already taken\")"
   ]
  },
  {
   "cell_type": "code",
   "execution_count": null,
   "id": "9a5dde64",
   "metadata": {},
   "outputs": [],
   "source": []
  }
 ],
 "metadata": {
  "kernelspec": {
   "display_name": "Python 3",
   "language": "python",
   "name": "python3"
  },
  "language_info": {
   "codemirror_mode": {
    "name": "ipython",
    "version": 3
   },
   "file_extension": ".py",
   "mimetype": "text/x-python",
   "name": "python",
   "nbconvert_exporter": "python",
   "pygments_lexer": "ipython3",
   "version": "3.13.1"
  }
 },
 "nbformat": 4,
 "nbformat_minor": 5
}
