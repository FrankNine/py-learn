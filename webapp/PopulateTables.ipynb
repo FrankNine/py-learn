{
 "cells": [
  {
   "cell_type": "code",
   "execution_count": 48,
   "id": "caba24a3",
   "metadata": {},
   "outputs": [],
   "source": [
    "fn = 'Abi-10-100m-Back.txt'\n",
    "name, age, distance, stroke = fn.removesuffix(\".txt\").split(\"-\")"
   ]
  },
  {
   "cell_type": "code",
   "execution_count": 49,
   "id": "3e62bad6",
   "metadata": {},
   "outputs": [
    {
     "data": {
      "text/plain": [
       "('Abi', '10')"
      ]
     },
     "execution_count": 49,
     "metadata": {},
     "output_type": "execute_result"
    }
   ],
   "source": [
    "name, age"
   ]
  },
  {
   "cell_type": "code",
   "execution_count": 50,
   "id": "929900e0",
   "metadata": {},
   "outputs": [
    {
     "data": {
      "text/plain": [
       "('100m', 'Back')"
      ]
     },
     "execution_count": 50,
     "metadata": {},
     "output_type": "execute_result"
    }
   ],
   "source": [
    "distance, stroke"
   ]
  },
  {
   "cell_type": "code",
   "execution_count": 51,
   "id": "17327c24",
   "metadata": {},
   "outputs": [],
   "source": [
    "import os\n",
    "\n",
    "FOLDER = \"swimdata/\"\n",
    "\n",
    "files = os.listdir(FOLDER)\n",
    "files.remove(\".DS_Store\")"
   ]
  },
  {
   "cell_type": "code",
   "execution_count": 52,
   "id": "2d030e3b",
   "metadata": {},
   "outputs": [
    {
     "name": "stdout",
     "output_type": "stream",
     "text": [
      "Abi-10-100m-Back.txt\n"
     ]
    },
    {
     "data": {
      "text/plain": [
       "('Abi', '10')"
      ]
     },
     "execution_count": 52,
     "metadata": {},
     "output_type": "execute_result"
    }
   ],
   "source": [
    "first = files[0]\n",
    "print(first)\n",
    "name, age, _, _ = first.removesuffix(\".txt\").split(\"-\")\n",
    "name, age"
   ]
  },
  {
   "cell_type": "code",
   "execution_count": 53,
   "id": "afcf4218",
   "metadata": {},
   "outputs": [],
   "source": [
    "import DBcm\n",
    "\n",
    "db_details = \"CoachDB.sqlite3\""
   ]
  },
  {
   "cell_type": "code",
   "execution_count": 54,
   "id": "7cc58477",
   "metadata": {},
   "outputs": [],
   "source": [
    "SQL_INSERT = \"\"\"\n",
    "    insert into swimmers\n",
    "    (name, age)\n",
    "    values\n",
    "    (?, ?)\n",
    "\"\"\""
   ]
  },
  {
   "cell_type": "code",
   "execution_count": 55,
   "id": "d004d81f",
   "metadata": {},
   "outputs": [],
   "source": [
    "with DBcm.UseDatabase(db_details) as db:\n",
    "    db.execute(SQL_INSERT, (name, age))"
   ]
  },
  {
   "cell_type": "code",
   "execution_count": 56,
   "id": "3cc2cda9",
   "metadata": {},
   "outputs": [
    {
     "data": {
      "text/plain": [
       "[(145, 'Abi', 10),\n",
       " (146, 'Abi', 10),\n",
       " (147, 'Abi', 10),\n",
       " (148, 'Abi', 10),\n",
       " (149, 'Abi', 10),\n",
       " (150, 'Ali', 12),\n",
       " (151, 'Ali', 12),\n",
       " (152, 'Alison', 14),\n",
       " (153, 'Alison', 14),\n",
       " (154, 'Aurora', 13),\n",
       " (155, 'Bill', 18),\n",
       " (156, 'Bill', 18),\n",
       " (157, 'Blake', 15),\n",
       " (158, 'Blake', 15),\n",
       " (159, 'Blake', 15),\n",
       " (160, 'Calvin', 9),\n",
       " (161, 'Calvin', 9),\n",
       " (162, 'Calvin', 9),\n",
       " (163, 'Carl', 15),\n",
       " (164, 'Chris', 17),\n",
       " (165, 'Chris', 17),\n",
       " (166, 'Darius', 13),\n",
       " (167, 'Darius', 13),\n",
       " (168, 'Darius', 13),\n",
       " (169, 'Darius', 13),\n",
       " (170, 'Dave', 17),\n",
       " (171, 'Dave', 17),\n",
       " (172, 'Elba', 14),\n",
       " (173, 'Emma', 13),\n",
       " (174, 'Emma', 13),\n",
       " (175, 'Erika', 15),\n",
       " (176, 'Erika', 15),\n",
       " (177, 'Erika', 15),\n",
       " (178, 'Hannah', 13),\n",
       " (179, 'Hannah', 13),\n",
       " (180, 'Katie', 9),\n",
       " (181, 'Katie', 9),\n",
       " (182, 'Katie', 9),\n",
       " (183, 'Katie', 9),\n",
       " (184, 'Katie', 9),\n",
       " (185, 'Katie', 9),\n",
       " (186, 'Katie', 9),\n",
       " (187, 'Lizzie', 14),\n",
       " (188, 'Lizzie', 14),\n",
       " (189, 'Maria', 9),\n",
       " (190, 'Mike', 15),\n",
       " (191, 'Mike', 15),\n",
       " (192, 'Mike', 15),\n",
       " (193, 'Mike', 15),\n",
       " (194, 'Mike', 15),\n",
       " (195, 'Owen', 15),\n",
       " (196, 'Ruth', 13),\n",
       " (197, 'Ruth', 13),\n",
       " (198, 'Ruth', 13),\n",
       " (199, 'Ruth', 13),\n",
       " (200, 'Ruth', 13),\n",
       " (201, 'Tasmin', 15),\n",
       " (202, 'Tasmin', 15),\n",
       " (203, 'Tasmin', 15),\n",
       " (204, 'Tasmin', 15),\n",
       " (205, 'Abi', 10)]"
      ]
     },
     "execution_count": 56,
     "metadata": {},
     "output_type": "execute_result"
    }
   ],
   "source": [
    "with DBcm.UseDatabase(db_details) as db:\n",
    "    db.execute(\"select * from swimmers\")\n",
    "    results = db.fetchall()\n",
    "results"
   ]
  },
  {
   "cell_type": "code",
   "execution_count": 57,
   "id": "b1b4596c",
   "metadata": {},
   "outputs": [],
   "source": [
    "SQL = \"delete from swimmers\"\n",
    "with DBcm.UseDatabase(db_details) as db:\n",
    "    db.execute(SQL)"
   ]
  },
  {
   "cell_type": "code",
   "execution_count": 58,
   "id": "8286880b",
   "metadata": {},
   "outputs": [
    {
     "data": {
      "text/plain": [
       "[]"
      ]
     },
     "execution_count": 58,
     "metadata": {},
     "output_type": "execute_result"
    }
   ],
   "source": [
    "with DBcm.UseDatabase(db_details) as db:\n",
    "    db.execute(\"select * from swimmers\")\n",
    "    results = db.fetchall()\n",
    "results"
   ]
  },
  {
   "cell_type": "code",
   "execution_count": 59,
   "id": "321e50fe",
   "metadata": {},
   "outputs": [],
   "source": [
    "import os\n",
    "\n",
    "import DBcm\n",
    "\n",
    "db_details = \"CoachDB.sqlite3\"\n",
    "\n",
    "FOLDER = \"swimdata/\"\n",
    "\n",
    "files = os.listdir(FOLDER)\n",
    "files.remove(\".DS_Store\")\n",
    "\n",
    "SQL_INSERT = \"\"\"\n",
    "    insert into swimmers\n",
    "    (name, age)\n",
    "    values\n",
    "    (?, ?)\n",
    "\"\"\""
   ]
  },
  {
   "cell_type": "code",
   "execution_count": 60,
   "id": "8446c96e",
   "metadata": {},
   "outputs": [],
   "source": [
    "with DBcm.UseDatabase(db_details) as db:\n",
    "    for fn in files:\n",
    "        name, age, _, _ = fn.removesuffix(\".txt\").split(\"-\")\n",
    "        db.execute(SQL_INSERT, (name, age,))"
   ]
  },
  {
   "cell_type": "code",
   "execution_count": null,
   "id": "62cdab12",
   "metadata": {},
   "outputs": [],
   "source": [
    "import os\n",
    "\n",
    "import DBcm\n",
    "\n",
    "db_details = \"CoachDB.sqlite3\"\n",
    "\n",
    "FOLDER = \"swimdata/\"\n",
    "\n",
    "files = os.listdir(FOLDER)\n",
    "files.remove(\".DS_Store\")\n",
    "\n",
    "SQL_SELECT = \"\"\"\n",
    "    select * from swimmers\n",
    "    where name = ? and age = ?\n",
    "\"\"\"\n",
    "\n",
    "SQL_INSERT = \"\"\"\n",
    "    insert into swimmers\n",
    "    (name, age)\n",
    "    values\n",
    "    (?, ?)\n",
    "\"\"\"\n",
    "\n",
    "with DBcm.UseDatabase(db_details) as db:\n",
    "    for fn in files:\n",
    "        name, age, _, _ = fn.removesuffix(\".txt\").split(\"-\")\n",
    "        db.execute(SQL_SELECT, (name, age,))\n",
    "        if db.fetchall():\n",
    "            continue\n",
    "        db.execute(SQL_INSERT, (name, age,))"
   ]
  },
  {
   "cell_type": "code",
   "execution_count": 62,
   "id": "bc746b5e",
   "metadata": {},
   "outputs": [],
   "source": [
    "import os\n",
    "\n",
    "import DBcm\n",
    "\n",
    "db_deetails = \"CoachDB.sqlite3\"\n",
    "\n",
    "FOLDER = \"swimdata/\"\n",
    "\n",
    "files = os.listdir(FOLDER)\n",
    "files.remove(\".DS_Store\")\n",
    "\n",
    "SQL_SELECT = \"\"\"\n",
    "    select * from events\n",
    "    where distance = ? and stroke = ?\n",
    "\"\"\"\n",
    "\n",
    "SQL_INSERT = \"\"\"\n",
    "    insert into events\n",
    "    (distance, stroke)\n",
    "    values\n",
    "    (?, ?)\n",
    "\"\"\"\n",
    "\n",
    "with DBcm.UseDatabase(db_deetails) as db:\n",
    "    for fn in files:\n",
    "        _, _, distance, stroke = fn.removesuffix(\".txt\").split(\"-\")\n",
    "        db.execute(SQL_SELECT, (distance, stroke,))\n",
    "        if db.fetchall():\n",
    "            continue\n",
    "        db.execute(SQL_INSERT, (distance, stroke,))"
   ]
  },
  {
   "cell_type": "code",
   "execution_count": 63,
   "id": "4df8df45",
   "metadata": {},
   "outputs": [
    {
     "data": {
      "text/plain": [
       "[(1, '100m', 'Back'),\n",
       " (2, '100m', 'Breast'),\n",
       " (3, '50m', 'Back'),\n",
       " (4, '50m', 'Breast'),\n",
       " (5, '50m', 'Free'),\n",
       " (6, '100m', 'Free'),\n",
       " (7, '200m', 'Back'),\n",
       " (8, '100m', 'Fly'),\n",
       " (9, '50m', 'Fly'),\n",
       " (10, '200m', 'IM'),\n",
       " (11, '200m', 'Breast'),\n",
       " (12, '200m', 'Free'),\n",
       " (13, '400m', 'Free')]"
      ]
     },
     "execution_count": 63,
     "metadata": {},
     "output_type": "execute_result"
    }
   ],
   "source": [
    "SQL = \"\"\"select * from events\"\"\"\n",
    "with DBcm.UseDatabase(db_deetails) as db:\n",
    "    db.execute(SQL)\n",
    "    results = db.fetchall()\n",
    "results"
   ]
  },
  {
   "cell_type": "code",
   "execution_count": 64,
   "id": "7c08ec24",
   "metadata": {},
   "outputs": [
    {
     "data": {
      "text/plain": [
       "[(0, 'swimmer_id', 'INTEGER', 1, None, 0),\n",
       " (1, 'event_id', 'INTEGER', 1, None, 0),\n",
       " (2, 'time', 'varchar(16)', 1, None, 0),\n",
       " (3, 'ts', 'timestamp', 0, 'current_timestamp', 0)]"
      ]
     },
     "execution_count": 64,
     "metadata": {},
     "output_type": "execute_result"
    }
   ],
   "source": [
    "with DBcm.UseDatabase(db_deetails) as db:\n",
    "    db.execute(\"pragma table_info(times)\")\n",
    "    results = db.fetchall()\n",
    "results"
   ]
  },
  {
   "cell_type": "code",
   "execution_count": null,
   "id": "ee66d13a",
   "metadata": {},
   "outputs": [],
   "source": [
    "import os\n",
    "\n",
    "FOLDER = \"swimdata/\"\n",
    "\n",
    "files = os.listdir(FOLDER)\n",
    "files.remove(\".DS_Store\")\n",
    "\n",
    "import DBcm\n",
    "\n",
    "db_details = \"CoachDB.sqlite3\"\n",
    "\n",
    "SQL_GET_SWIMMER = \"\"\"\n",
    "    select id from swimmers\n",
    "    where name = ? and age = ?\n",
    "\"\"\"\n",
    "\n",
    "SQL_GET_EVENT = \"\"\"\n",
    "    select id from events\n",
    "    where distance = ? and stroke = ?\n",
    "\"\"\"\n",
    "\n",
    "SQL_INSERT = \"\"\"\n",
    "    insert into times\n",
    "    (swimmer_id, event_id, time)\n",
    "    values\n",
    "    (?, ?, ?)\n",
    "\"\"\"\n",
    "\n",
    "with DBcm.UseDatabase(db_details) as db:\n",
    "    for fn in files:\n",
    "        name, age, distance, stroke = fn.removesuffix(\".txt\").split(\"-\")\n",
    "        db.execute(SQL_GET_SWIMMER, (name, age,))\n",
    "        s_id = db.fetchone()[0]\n",
    "        db.execute(SQL_GET_EVENT, (distance, stroke,))\n",
    "        e_id = db.fetchone()[0]\n",
    "        with open(FOLDER + fn) as sf:\n",
    "            times = sf.read().strip().split(\",\")\n",
    "            for t in times:\n",
    "                db.execute(SQL_INSERT, (s_id, e_id, t, ))"
   ]
  },
  {
   "cell_type": "code",
   "execution_count": 67,
   "id": "e7009ea9",
   "metadata": {},
   "outputs": [
    {
     "data": {
      "text/plain": [
       "338"
      ]
     },
     "execution_count": 67,
     "metadata": {},
     "output_type": "execute_result"
    }
   ],
   "source": [
    "SQL = \"\"\"select count(*) from times\"\"\"\n",
    "with DBcm.UseDatabase(db_details) as db:\n",
    "    db.execute(SQL)\n",
    "    results = db.fetchone()[0]\n",
    "results"
   ]
  },
  {
   "cell_type": "code",
   "execution_count": 68,
   "id": "4cfc0765",
   "metadata": {},
   "outputs": [
    {
     "data": {
      "text/plain": [
       "[(206, 1, '1:31.59', '2025-08-05 09:10:59'),\n",
       " (206, 1, '1:26.55', '2025-08-05 09:10:59'),\n",
       " (206, 1, '1:28.75', '2025-08-05 09:10:59'),\n",
       " (206, 1, '1:39.79', '2025-08-05 09:10:59'),\n",
       " (206, 1, '1:32.37', '2025-08-05 09:10:59'),\n",
       " (206, 2, '1:42.97', '2025-08-05 09:10:59'),\n",
       " (206, 2, '1:43.31', '2025-08-05 09:10:59'),\n",
       " (206, 2, '1:43.50', '2025-08-05 09:10:59'),\n",
       " (206, 2, '1:40.34', '2025-08-05 09:10:59'),\n",
       " (206, 3, '41.50', '2025-08-05 09:10:59')]"
      ]
     },
     "execution_count": 68,
     "metadata": {},
     "output_type": "execute_result"
    }
   ],
   "source": [
    "SQL = \"\"\"select * from times limit 10\"\"\"\n",
    "with DBcm.UseDatabase(db_details) as db:\n",
    "    db.execute(SQL)\n",
    "    results = db.fetchall()\n",
    "results"
   ]
  }
 ],
 "metadata": {
  "kernelspec": {
   "display_name": "Python 3",
   "language": "python",
   "name": "python3"
  },
  "language_info": {
   "codemirror_mode": {
    "name": "ipython",
    "version": 3
   },
   "file_extension": ".py",
   "mimetype": "text/x-python",
   "name": "python",
   "nbconvert_exporter": "python",
   "pygments_lexer": "ipython3",
   "version": "3.13.5"
  }
 },
 "nbformat": 4,
 "nbformat_minor": 5
}
