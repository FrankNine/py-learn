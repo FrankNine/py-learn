{
 "cells": [
  {
   "cell_type": "code",
   "execution_count": 1,
   "id": "89a7b8bb",
   "metadata": {},
   "outputs": [],
   "source": [
    "import data_utils"
   ]
  },
  {
   "cell_type": "code",
   "execution_count": 2,
   "id": "d68df68b",
   "metadata": {},
   "outputs": [
    {
     "name": "stdout",
     "output_type": "stream",
     "text": [
      "['DBcm', 'SQL_CHART_DATA_BY_SWIMMER_EVENT_SESSION', 'SQL_SESSIONS', 'SQL_SWIMMERS_BY_SESSION', 'SQL_SWIMMERS_EVENTS_BY_SESSION', 'db_details', 'get_session_swimmers', 'get_swim_sessions', 'get_swimmers_events', 'get_swimmers_times']\n"
     ]
    }
   ],
   "source": [
    "print([x for x in dir(data_utils) if not x.startswith(\"__\")])"
   ]
  },
  {
   "cell_type": "code",
   "execution_count": 3,
   "id": "b9d62d5a",
   "metadata": {},
   "outputs": [
    {
     "name": "stdout",
     "output_type": "stream",
     "text": [
      "Help on function get_swim_sessions in module data_utils:\n",
      "\n",
      "get_swim_sessions()\n",
      "\n"
     ]
    }
   ],
   "source": [
    "help(data_utils.get_swim_sessions)"
   ]
  },
  {
   "cell_type": "code",
   "execution_count": 4,
   "id": "8064e62e",
   "metadata": {},
   "outputs": [
    {
     "data": {
      "text/plain": [
       "[('2025-08-05 09:10:59',),\n",
       " ('2025-08-05 09:11:00',),\n",
       " ('2025-08-05 10:02:44',),\n",
       " ('2025-08-05 10:06:22',),\n",
       " ('2025-08-05 10:10:22',),\n",
       " ('2025-08-05 10:10:37',),\n",
       " ('2025-08-05 10:13:04',)]"
      ]
     },
     "execution_count": 4,
     "metadata": {},
     "output_type": "execute_result"
    }
   ],
   "source": [
    "data_utils.get_swim_sessions()"
   ]
  },
  {
   "cell_type": "code",
   "execution_count": 5,
   "id": "a17e8f0c",
   "metadata": {},
   "outputs": [
    {
     "data": {
      "text/plain": [
       "[('Abi', 10),\n",
       " ('Ali', 12),\n",
       " ('Alison', 14),\n",
       " ('Aurora', 13),\n",
       " ('Bill', 18),\n",
       " ('Blake', 15),\n",
       " ('Calvin', 9),\n",
       " ('Carl', 15),\n",
       " ('Chris', 17),\n",
       " ('Darius', 13),\n",
       " ('Darius', 8),\n",
       " ('Dave', 17),\n",
       " ('Elba', 14),\n",
       " ('Emma', 13),\n",
       " ('Erika', 15),\n",
       " ('Hannah', 13),\n",
       " ('Katie', 9),\n",
       " ('Lizzie', 14),\n",
       " ('Maria', 9),\n",
       " ('Mike', 15),\n",
       " ('Owen', 15),\n",
       " ('Ruth', 13),\n",
       " ('Tasmin', 15)]"
      ]
     },
     "execution_count": 5,
     "metadata": {},
     "output_type": "execute_result"
    }
   ],
   "source": [
    "data_utils.get_session_swimmers(\"2025-08-05\")"
   ]
  },
  {
   "cell_type": "code",
   "execution_count": 6,
   "id": "19f03702",
   "metadata": {},
   "outputs": [
    {
     "data": {
      "text/plain": [
       "[('50m', 'Back'), ('50m', 'Breast'), ('50m', 'Free')]"
      ]
     },
     "execution_count": 6,
     "metadata": {},
     "output_type": "execute_result"
    }
   ],
   "source": [
    "data_utils.get_swimmers_events(\"Darius\", 8, \"2025-08-05\")"
   ]
  },
  {
   "cell_type": "code",
   "execution_count": 8,
   "id": "1742036c",
   "metadata": {},
   "outputs": [
    {
     "data": {
      "text/plain": [
       "[('39.42',),\n",
       " ('36.13',),\n",
       " ('37.66',),\n",
       " ('39.07',),\n",
       " ('39.42',),\n",
       " ('36.13',),\n",
       " ('37.66',),\n",
       " ('39.07',),\n",
       " ('39.42',),\n",
       " ('36.13',),\n",
       " ('37.66',),\n",
       " ('39.07',),\n",
       " ('39.42',),\n",
       " ('36.13',),\n",
       " ('37.66',),\n",
       " ('39.07',),\n",
       " ('39.42',),\n",
       " ('36.13',),\n",
       " ('37.66',),\n",
       " ('39.07',)]"
      ]
     },
     "execution_count": 8,
     "metadata": {},
     "output_type": "execute_result"
    }
   ],
   "source": [
    "data_utils.get_swimmers_times(\"Darius\", 8, \"50m\", \"Free\", \"2025-08-05\")"
   ]
  },
  {
   "cell_type": "code",
   "execution_count": 9,
   "id": "3199433c",
   "metadata": {},
   "outputs": [
    {
     "data": {
      "text/plain": [
       "[('2025-08-05 09:10:59',),\n",
       " ('2025-08-05 09:11:00',),\n",
       " ('2025-08-05 10:02:44',),\n",
       " ('2025-08-05 10:06:22',),\n",
       " ('2025-08-05 10:10:22',),\n",
       " ('2025-08-05 10:10:37',),\n",
       " ('2025-08-05 10:13:04',)]"
      ]
     },
     "execution_count": 9,
     "metadata": {},
     "output_type": "execute_result"
    }
   ],
   "source": [
    "data = data_utils.get_swim_sessions()\n",
    "data"
   ]
  },
  {
   "cell_type": "code",
   "execution_count": 10,
   "id": "87a5630f",
   "metadata": {},
   "outputs": [
    {
     "data": {
      "text/plain": [
       "['2025-08-05',\n",
       " '2025-08-05',\n",
       " '2025-08-05',\n",
       " '2025-08-05',\n",
       " '2025-08-05',\n",
       " '2025-08-05',\n",
       " '2025-08-05']"
      ]
     },
     "execution_count": 10,
     "metadata": {},
     "output_type": "execute_result"
    }
   ],
   "source": [
    "[session[0].split(\" \")[0] for session in data]"
   ]
  },
  {
   "cell_type": "code",
   "execution_count": 11,
   "id": "67fa84e7",
   "metadata": {},
   "outputs": [
    {
     "name": "stdout",
     "output_type": "stream",
     "text": [
      "[('Abi', 10), ('Ali', 12), ('Alison', 14), ('Aurora', 13), ('Bill', 18), ('Blake', 15), ('Calvin', 9), ('Carl', 15), ('Chris', 17), ('Darius', 13), ('Darius', 8), ('Dave', 17), ('Elba', 14), ('Emma', 13), ('Erika', 15), ('Hannah', 13), ('Katie', 9), ('Lizzie', 14), ('Maria', 9), ('Mike', 15), ('Owen', 15), ('Ruth', 13), ('Tasmin', 15)]\n"
     ]
    }
   ],
   "source": [
    "data = data_utils.get_session_swimmers(\"2025-08-05\")\n",
    "print(data)"
   ]
  },
  {
   "cell_type": "code",
   "execution_count": 14,
   "id": "548847e8",
   "metadata": {},
   "outputs": [
    {
     "name": "stdout",
     "output_type": "stream",
     "text": [
      "['Abi-10', 'Ali-12', 'Alison-14', 'Aurora-13', 'Bill-18', 'Blake-15', 'Calvin-9', 'Carl-15', 'Chris-17', 'Darius-13', 'Darius-8', 'Dave-17', 'Elba-14', 'Emma-13', 'Erika-15', 'Hannah-13', 'Katie-9', 'Lizzie-14', 'Maria-9', 'Mike-15', 'Owen-15', 'Ruth-13', 'Tasmin-15']\n"
     ]
    }
   ],
   "source": [
    "print([f\"{swimmer[0]}-{swimmer[1]}\" for swimmer in data])"
   ]
  },
  {
   "cell_type": "code",
   "execution_count": 15,
   "id": "c69b53d3",
   "metadata": {},
   "outputs": [
    {
     "data": {
      "text/plain": [
       "[('50m', 'Back'), ('50m', 'Breast'), ('50m', 'Free')]"
      ]
     },
     "execution_count": 15,
     "metadata": {},
     "output_type": "execute_result"
    }
   ],
   "source": [
    "data = data_utils.get_swimmers_events(\"Darius\", 8, \"2025-08-05\")\n",
    "data"
   ]
  },
  {
   "cell_type": "code",
   "execution_count": 17,
   "id": "9b167fca",
   "metadata": {},
   "outputs": [
    {
     "name": "stdout",
     "output_type": "stream",
     "text": [
      "['50m Back', '50m Breast', '50m Free']\n"
     ]
    }
   ],
   "source": [
    "print([f\"{event[0]} {event[1]}\" for event in data])"
   ]
  },
  {
   "cell_type": "code",
   "execution_count": 20,
   "id": "5609bda8",
   "metadata": {},
   "outputs": [
    {
     "data": {
      "text/plain": [
       "[('39.42',),\n",
       " ('36.13',),\n",
       " ('37.66',),\n",
       " ('39.07',),\n",
       " ('39.42',),\n",
       " ('36.13',),\n",
       " ('37.66',),\n",
       " ('39.07',),\n",
       " ('39.42',),\n",
       " ('36.13',),\n",
       " ('37.66',),\n",
       " ('39.07',),\n",
       " ('39.42',),\n",
       " ('36.13',),\n",
       " ('37.66',),\n",
       " ('39.07',),\n",
       " ('39.42',),\n",
       " ('36.13',),\n",
       " ('37.66',),\n",
       " ('39.07',)]"
      ]
     },
     "execution_count": 20,
     "metadata": {},
     "output_type": "execute_result"
    }
   ],
   "source": [
    "data = data_utils.get_swimmers_times(\"Darius\", 8, \"50m\", \"Free\", \"2025-08-05\")\n",
    "data"
   ]
  },
  {
   "cell_type": "code",
   "execution_count": 22,
   "id": "230cad03",
   "metadata": {},
   "outputs": [
    {
     "data": {
      "text/plain": [
       "['39.42',\n",
       " '36.13',\n",
       " '37.66',\n",
       " '39.07',\n",
       " '39.42',\n",
       " '36.13',\n",
       " '37.66',\n",
       " '39.07',\n",
       " '39.42',\n",
       " '36.13',\n",
       " '37.66',\n",
       " '39.07',\n",
       " '39.42',\n",
       " '36.13',\n",
       " '37.66',\n",
       " '39.07',\n",
       " '39.42',\n",
       " '36.13',\n",
       " '37.66',\n",
       " '39.07']"
      ]
     },
     "execution_count": 22,
     "metadata": {},
     "output_type": "execute_result"
    }
   ],
   "source": [
    "[time[0] for time in data]"
   ]
  },
  {
   "cell_type": "code",
   "execution_count": null,
   "id": "7a54d0d7",
   "metadata": {},
   "outputs": [],
   "source": []
  }
 ],
 "metadata": {
  "kernelspec": {
   "display_name": "Python 3",
   "language": "python",
   "name": "python3"
  },
  "language_info": {
   "codemirror_mode": {
    "name": "ipython",
    "version": 3
   },
   "file_extension": ".py",
   "mimetype": "text/x-python",
   "name": "python",
   "nbconvert_exporter": "python",
   "pygments_lexer": "ipython3",
   "version": "3.13.5"
  }
 },
 "nbformat": 4,
 "nbformat_minor": 5
}
