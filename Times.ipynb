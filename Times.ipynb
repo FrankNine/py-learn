{
 "cells": [
  {
   "cell_type": "code",
   "execution_count": 2,
   "id": "ca15a3ff",
   "metadata": {},
   "outputs": [],
   "source": [
    "FN = \"Darius-13-100m-Fly.txt\"\n",
    "FOLDER = \"swimdata/\""
   ]
  },
  {
   "cell_type": "code",
   "execution_count": 3,
   "id": "e7a2d84b",
   "metadata": {},
   "outputs": [],
   "source": [
    "swimmer, age, distance, stroke = FN.removesuffix(\".txt\").split(\"-\")"
   ]
  },
  {
   "cell_type": "code",
   "execution_count": 4,
   "id": "e1ed9c3a",
   "metadata": {},
   "outputs": [],
   "source": [
    "with open(FOLDER + FN) as file:\n",
    "    lines = file.readlines()\n",
    "    times = lines[0].strip().split(',')"
   ]
  },
  {
   "cell_type": "code",
   "execution_count": 5,
   "id": "a57f2914",
   "metadata": {},
   "outputs": [],
   "source": [
    "converts = []\n",
    "for t in times:\n",
    "    minutes, rest = t.split(':')\n",
    "    seconds, hundredths = rest.split('.')\n",
    "    converts.append((int(minutes) * 60 * 100) + (int(seconds) * 100) + int(hundredths))"
   ]
  },
  {
   "cell_type": "code",
   "execution_count": 6,
   "id": "c95a921f",
   "metadata": {},
   "outputs": [],
   "source": [
    "import statistics\n",
    "\n",
    "average = statistics.mean(converts)\n",
    "mins_secs, hundredths = str(round(average / 100, 2)).split('.')\n",
    "mins_secs = int(mins_secs)\n",
    "minutes = mins_secs // 60\n",
    "seconds = mins_secs - minutes * 60\n",
    "average = str(minutes) + \":\" + str(seconds) + \".\" + hundredths"
   ]
  },
  {
   "cell_type": "code",
   "execution_count": 7,
   "id": "902f2dfc",
   "metadata": {},
   "outputs": [
    {
     "data": {
      "text/plain": [
       "('Darius', '13', '100m', 'Fly')"
      ]
     },
     "execution_count": 7,
     "metadata": {},
     "output_type": "execute_result"
    }
   ],
   "source": [
    "swimmer, age, distance, stroke"
   ]
  },
  {
   "cell_type": "code",
   "execution_count": 8,
   "id": "f764d0e8",
   "metadata": {},
   "outputs": [
    {
     "data": {
      "text/plain": [
       "['1:27.95', '1:21.07', '1:30.96', '1:23.22', '1:27.95', '1:28.30']"
      ]
     },
     "execution_count": 8,
     "metadata": {},
     "output_type": "execute_result"
    }
   ],
   "source": [
    "times"
   ]
  },
  {
   "cell_type": "code",
   "execution_count": 9,
   "id": "4a946503",
   "metadata": {},
   "outputs": [
    {
     "data": {
      "text/plain": [
       "'1:26.58'"
      ]
     },
     "execution_count": 9,
     "metadata": {},
     "output_type": "execute_result"
    }
   ],
   "source": [
    "average"
   ]
  },
  {
   "cell_type": "code",
   "execution_count": null,
   "id": "f71cf95a",
   "metadata": {},
   "outputs": [],
   "source": []
  }
 ],
 "metadata": {
  "kernelspec": {
   "display_name": "Python 3",
   "language": "python",
   "name": "python3"
  },
  "language_info": {
   "codemirror_mode": {
    "name": "ipython",
    "version": 3
   },
   "file_extension": ".py",
   "mimetype": "text/x-python",
   "name": "python",
   "nbconvert_exporter": "python",
   "pygments_lexer": "ipython3",
   "version": "3.13.5"
  }
 },
 "nbformat": 4,
 "nbformat_minor": 5
}
